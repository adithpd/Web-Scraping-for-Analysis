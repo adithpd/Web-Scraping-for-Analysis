{
 "cells": [
  {
   "cell_type": "code",
   "execution_count": 1,
   "metadata": {},
   "outputs": [
    {
     "name": "stdout",
     "output_type": "stream",
     "text": [
      "[['Baldwin (D-WI)', 'Yea'], ['Barrasso (R-WY)', 'Yea'], ['Bennet (D-CO)', 'Yea'], ['Blackburn (R-TN)', 'Yea'], ['Blumenthal (D-CT)', 'Yea'], ['Blunt (R-MO)', 'Yea'], ['Booker (D-NJ)', 'Yea'], ['Boozman (R-AR)', 'Yea'], ['Braun (R-IN)', 'Nay'], ['Brown (D-OH)', 'Yea'], ['Burr (R-NC)', 'Yea'], ['Cantwell (D-WA)', 'Yea'], ['Capito (R-WV)', 'Yea'], ['Cardin (D-MD)', 'Yea'], ['Carper (D-DE)', 'Yea'], ['Casey (D-PA)', 'Yea'], ['Cassidy (R-LA)', 'Yea'], ['Collins (R-ME)', 'Yea'], ['Coons (D-DE)', 'Yea'], ['Cornyn (R-TX)', 'Yea'], ['Cortez Masto (D-NV)', 'Yea'], ['Cotton (R-AR)', 'Yea'], ['Cramer (R-ND)', 'Yea'], ['Crapo (R-ID)', 'Yea'], ['Cruz (R-TX)', 'Nay'], ['Daines (R-MT)', 'Nay'], ['Duckworth (D-IL)', 'Yea'], ['Durbin (D-IL)', 'Yea'], ['Ernst (R-IA)', 'Yea'], ['Feinstein (D-CA)', 'Yea'], ['Fischer (R-NE)', 'Yea'], ['Gillibrand (D-NY)', 'Yea'], ['Graham (R-SC)', 'Yea'], ['Grassley (R-IA)', 'Yea'], ['Hagerty (R-TN)', 'Yea'], ['Hassan (D-NH)', 'Yea'], ['Hawley (R-MO)', 'Yea'], ['Heinrich (D-NM)', 'Yea'], ['Hickenlooper (D-CO)', 'Yea'], ['Hirono (D-HI)', 'Yea'], ['Hoeven (R-ND)', 'Yea'], ['Hyde-Smith (R-MS)', 'Yea'], ['Inhofe (R-OK)', 'Yea'], ['Johnson (R-WI)', 'Yea'], ['Kaine (D-VA)', 'Yea'], ['Kelly (D-AZ)', 'Yea'], ['Kennedy (R-LA)', 'Yea'], ['King (I-ME)', 'Yea'], ['Klobuchar (D-MN)', 'Yea'], ['Lankford (R-OK)', 'Nay'], ['Leahy (D-VT)', 'Yea'], ['Lee (R-UT)', 'Nay'], ['Lujan (D-NM)', 'Yea'], ['Lummis (R-WY)', 'Yea'], ['Manchin (D-WV)', 'Yea'], ['Markey (D-MA)', 'Yea'], ['Marshall (R-KS)', 'Yea'], ['McConnell (R-KY)', 'Yea'], ['Menendez (D-NJ)', 'Yea'], ['Merkley (D-OR)', 'Yea'], ['Moran (R-KS)', 'Yea'], ['Murkowski (R-AK)', 'Yea'], ['Murphy (D-CT)', 'Yea'], ['Murray (D-WA)', 'Yea'], ['Ossoff (D-GA)', 'Yea'], ['Padilla (D-CA)', 'Yea'], ['Paul (R-KY)', 'Nay'], ['Peters (D-MI)', 'Yea'], ['Portman (R-OH)', 'Yea'], ['Reed (D-RI)', 'Yea'], ['Risch (R-ID)', 'Yea'], ['Romney (R-UT)', 'Yea'], ['Rosen (D-NV)', 'Yea'], ['Rounds (R-SD)', 'Yea'], ['Rubio (R-FL)', 'Yea'], ['Sanders (I-VT)', 'Yea'], ['Sasse (R-NE)', 'Nay'], ['Schatz (D-HI)', 'Yea'], ['Schumer (D-NY)', 'Yea'], ['Scott (R-FL)', 'Nay'], ['Scott (R-SC)', 'Yea'], ['Shaheen (D-NH)', 'Yea'], ['Shelby (R-AL)', 'Yea'], ['Sinema (D-AZ)', 'Yea'], ['Smith (D-MN)', 'Yea'], ['Stabenow (D-MI)', 'Yea'], ['Sullivan (R-AK)', 'Yea'], ['Tester (D-MT)', 'Yea'], ['Thune (R-SD)', 'Yea'], ['Tillis (R-NC)', 'Yea'], ['Toomey (R-PA)', 'Nay'], ['Tuberville (R-AL)', 'Nay'], ['Van Hollen (D-MD)', 'Yea'], ['Warner (D-VA)', 'Yea'], ['Warnock (D-GA)', 'Yea'], ['Warren (D-MA)', 'Yea'], ['Whitehouse (D-RI)', 'Yea'], ['Wicker (R-MS)', 'Yea'], ['Wyden (D-OR)', 'Yea'], ['Young (R-IN)', 'Yea'], [''], ['']]\n"
     ]
    }
   ],
   "source": [
    "import requests\n",
    "from bs4 import BeautifulSoup\n",
    "\n",
    "r = requests.get('https://www.senate.gov/legislative/LIS/roll_call_votes/vote1171/vote_117_1_00014.htm')\n",
    "soup = BeautifulSoup(r.content, 'html.parser')\n",
    "s = soup.find('div', class_='newspaperDisplay_3column')\n",
    "lines = s.find_all('span')\n",
    "L = []\n",
    "for line in lines:\n",
    "  temp = line.text.split('\\n')\n",
    "for i in temp:\n",
    "  L.append(i.split(', '))\n",
    "print(L)\n"
   ]
  }
 ],
 "metadata": {
  "kernelspec": {
   "display_name": "Python 3.9.5 64-bit",
   "language": "python",
   "name": "python3"
  },
  "language_info": {
   "codemirror_mode": {
    "name": "ipython",
    "version": 3
   },
   "file_extension": ".py",
   "mimetype": "text/x-python",
   "name": "python",
   "nbconvert_exporter": "python",
   "pygments_lexer": "ipython3",
   "version": "3.9.5"
  },
  "orig_nbformat": 4,
  "vscode": {
   "interpreter": {
    "hash": "d89e8e5728b17684fed54050e5e4793eca09d5a54c09653813923a5dbe3a63ce"
   }
  }
 },
 "nbformat": 4,
 "nbformat_minor": 2
}
